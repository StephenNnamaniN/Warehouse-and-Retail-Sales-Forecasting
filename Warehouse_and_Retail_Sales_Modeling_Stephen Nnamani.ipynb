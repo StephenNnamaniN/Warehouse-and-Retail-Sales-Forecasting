{
 "cells": [
  {
   "cell_type": "markdown",
   "id": "85ece14a",
   "metadata": {},
   "source": [
    "# Warehouse & Retail Sales Forecasting\n",
    "\n",
    "In this project, we delve deep into the Warehouse and Retail Sales (Liquor and Alcohol) dataset from the Department of Liquor Control (DLC) in Montgomery County, MD in the United States, the dataset is available at the [dataMontegomery](https://data.montgomerycountymd.gov/Community-Recreation/Warehouse-and-Retail-Sales/v76h-r7br/about_data) Repository. This dataset contains a list of sales and movement data by item and department appended monthly. Our primary objective is to amplify the efficiency of sales in either the warehouse or retail stores and provide insight to suppliers where to focus their distribution for maximum sales. \n",
    "\n",
    "We aim to transform the transactional data into a supplier-centric dataset by creating new features that will facilitate the segmentation of Suppliers into Top sellers using the Time series trends. This segmentation will allow us to understand the top products and where they sell more. Building upon this, we intend to develop a forecasting system that will predict warehouse sales for top suppliers within each segments of products, ultimately enhancing supply-chain efficiency and fostering increased sales."
   ]
  },
  {
   "cell_type": "markdown",
   "id": "f76cdbc7",
   "metadata": {},
   "source": [
    "**Importing Necessary Libraries**"
   ]
  },
  {
   "cell_type": "code",
   "execution_count": null,
   "id": "701eec1b",
   "metadata": {},
   "outputs": [],
   "source": [
    "# Importing necessary libraries\n",
    "import pandas as pd\n",
    "import numpy as np\n",
    "import matplotlib.pyplot as plt\n",
    "import seaborn as sns"
   ]
  },
  {
   "cell_type": "markdown",
   "id": "15608b1c",
   "metadata": {},
   "source": [
    "# Data Loading, Overview, and Descriptive Statistics\n",
    "\n",
    "Here we are going to load and display our dataset to have a glimpse of the columns and rows it contains, we will also check the basic information and shape to understand the data types, number of rows and columns. We will check for missing values and visualise them to help us determine how best to handle them."
   ]
  },
  {
   "cell_type": "code",
   "execution_count": 51,
   "id": "33a2194b",
   "metadata": {},
   "outputs": [
    {
     "data": {
      "text/html": [
       "<div>\n",
       "<style scoped>\n",
       "    .dataframe tbody tr th:only-of-type {\n",
       "        vertical-align: middle;\n",
       "    }\n",
       "\n",
       "    .dataframe tbody tr th {\n",
       "        vertical-align: top;\n",
       "    }\n",
       "\n",
       "    .dataframe thead th {\n",
       "        text-align: right;\n",
       "    }\n",
       "</style>\n",
       "<table border=\"1\" class=\"dataframe\">\n",
       "  <thead>\n",
       "    <tr style=\"text-align: right;\">\n",
       "      <th></th>\n",
       "      <th>YEAR</th>\n",
       "      <th>MONTH</th>\n",
       "      <th>SUPPLIER</th>\n",
       "      <th>ITEM CODE</th>\n",
       "      <th>ITEM DESCRIPTION</th>\n",
       "      <th>ITEM TYPE</th>\n",
       "      <th>RETAIL SALES</th>\n",
       "      <th>RETAIL TRANSFERS</th>\n",
       "      <th>WAREHOUSE SALES</th>\n",
       "    </tr>\n",
       "  </thead>\n",
       "  <tbody>\n",
       "    <tr>\n",
       "      <th>0</th>\n",
       "      <td>2020</td>\n",
       "      <td>1</td>\n",
       "      <td>REPUBLIC NATIONAL DISTRIBUTING CO</td>\n",
       "      <td>100009</td>\n",
       "      <td>BOOTLEG RED - 750ML</td>\n",
       "      <td>WINE</td>\n",
       "      <td>0.00</td>\n",
       "      <td>0.0</td>\n",
       "      <td>2.0</td>\n",
       "    </tr>\n",
       "    <tr>\n",
       "      <th>1</th>\n",
       "      <td>2020</td>\n",
       "      <td>1</td>\n",
       "      <td>PWSWN INC</td>\n",
       "      <td>100024</td>\n",
       "      <td>MOMENT DE PLAISIR - 750ML</td>\n",
       "      <td>WINE</td>\n",
       "      <td>0.00</td>\n",
       "      <td>1.0</td>\n",
       "      <td>4.0</td>\n",
       "    </tr>\n",
       "    <tr>\n",
       "      <th>2</th>\n",
       "      <td>2020</td>\n",
       "      <td>1</td>\n",
       "      <td>RELIABLE CHURCHILL LLLP</td>\n",
       "      <td>1001</td>\n",
       "      <td>S SMITH ORGANIC PEAR CIDER - 18.7OZ</td>\n",
       "      <td>BEER</td>\n",
       "      <td>0.00</td>\n",
       "      <td>0.0</td>\n",
       "      <td>1.0</td>\n",
       "    </tr>\n",
       "    <tr>\n",
       "      <th>3</th>\n",
       "      <td>2020</td>\n",
       "      <td>1</td>\n",
       "      <td>LANTERNA DISTRIBUTORS INC</td>\n",
       "      <td>100145</td>\n",
       "      <td>SCHLINK HAUS KABINETT - 750ML</td>\n",
       "      <td>WINE</td>\n",
       "      <td>0.00</td>\n",
       "      <td>0.0</td>\n",
       "      <td>1.0</td>\n",
       "    </tr>\n",
       "    <tr>\n",
       "      <th>4</th>\n",
       "      <td>2020</td>\n",
       "      <td>1</td>\n",
       "      <td>DIONYSOS IMPORTS INC</td>\n",
       "      <td>100293</td>\n",
       "      <td>SANTORINI GAVALA WHITE - 750ML</td>\n",
       "      <td>WINE</td>\n",
       "      <td>0.82</td>\n",
       "      <td>0.0</td>\n",
       "      <td>0.0</td>\n",
       "    </tr>\n",
       "  </tbody>\n",
       "</table>\n",
       "</div>"
      ],
      "text/plain": [
       "   YEAR  MONTH                           SUPPLIER ITEM CODE  \\\n",
       "0  2020      1  REPUBLIC NATIONAL DISTRIBUTING CO    100009   \n",
       "1  2020      1                          PWSWN INC    100024   \n",
       "2  2020      1            RELIABLE CHURCHILL LLLP      1001   \n",
       "3  2020      1          LANTERNA DISTRIBUTORS INC    100145   \n",
       "4  2020      1               DIONYSOS IMPORTS INC    100293   \n",
       "\n",
       "                      ITEM DESCRIPTION ITEM TYPE  RETAIL SALES  \\\n",
       "0                  BOOTLEG RED - 750ML      WINE          0.00   \n",
       "1            MOMENT DE PLAISIR - 750ML      WINE          0.00   \n",
       "2  S SMITH ORGANIC PEAR CIDER - 18.7OZ      BEER          0.00   \n",
       "3        SCHLINK HAUS KABINETT - 750ML      WINE          0.00   \n",
       "4       SANTORINI GAVALA WHITE - 750ML      WINE          0.82   \n",
       "\n",
       "   RETAIL TRANSFERS  WAREHOUSE SALES  \n",
       "0               0.0              2.0  \n",
       "1               1.0              4.0  \n",
       "2               0.0              1.0  \n",
       "3               0.0              1.0  \n",
       "4               0.0              0.0  "
      ]
     },
     "execution_count": 51,
     "metadata": {},
     "output_type": "execute_result"
    }
   ],
   "source": [
    "# Let's load our dataset and display the first five rows\n",
    "file_path = 'Warehouse_and_Retail_Sales.csv'  \n",
    "df = pd.read_csv(file_path)\n",
    "df.head()"
   ]
  },
  {
   "cell_type": "code",
   "execution_count": 52,
   "id": "13767424",
   "metadata": {},
   "outputs": [
    {
     "name": "stdout",
     "output_type": "stream",
     "text": [
      "Data shape: (307645, 9)\n"
     ]
    }
   ],
   "source": [
    "# Let's see the shae of our dataset\n",
    "print('Data shape:', df.shape)"
   ]
  },
  {
   "cell_type": "code",
   "execution_count": null,
   "id": "238f7457",
   "metadata": {},
   "outputs": [
    {
     "name": "stdout",
     "output_type": "stream",
     "text": [
      "<class 'pandas.core.frame.DataFrame'>\n",
      "RangeIndex: 307645 entries, 0 to 307644\n",
      "Data columns (total 9 columns):\n",
      " #   Column            Non-Null Count   Dtype  \n",
      "---  ------            --------------   -----  \n",
      " 0   YEAR              307645 non-null  int64  \n",
      " 1   MONTH             307645 non-null  int64  \n",
      " 2   SUPPLIER          307478 non-null  object \n",
      " 3   ITEM CODE         307645 non-null  object \n",
      " 4   ITEM DESCRIPTION  307645 non-null  object \n",
      " 5   ITEM TYPE         307644 non-null  object \n",
      " 6   RETAIL SALES      307642 non-null  float64\n",
      " 7   RETAIL TRANSFERS  307645 non-null  float64\n",
      " 8   WAREHOUSE SALES   307645 non-null  float64\n",
      "dtypes: float64(3), int64(2), object(4)\n",
      "memory usage: 21.1+ MB\n"
     ]
    }
   ],
   "source": [
    "# Let's display basic information about our dataset\n",
    "df.info()"
   ]
  },
  {
   "cell_type": "code",
   "execution_count": null,
   "id": "0238845f",
   "metadata": {},
   "outputs": [
    {
     "data": {
      "text/html": [
       "<div>\n",
       "<style scoped>\n",
       "    .dataframe tbody tr th:only-of-type {\n",
       "        vertical-align: middle;\n",
       "    }\n",
       "\n",
       "    .dataframe tbody tr th {\n",
       "        vertical-align: top;\n",
       "    }\n",
       "\n",
       "    .dataframe thead th {\n",
       "        text-align: right;\n",
       "    }\n",
       "</style>\n",
       "<table border=\"1\" class=\"dataframe\">\n",
       "  <thead>\n",
       "    <tr style=\"text-align: right;\">\n",
       "      <th></th>\n",
       "      <th>count</th>\n",
       "      <th>mean</th>\n",
       "      <th>std</th>\n",
       "      <th>min</th>\n",
       "      <th>25%</th>\n",
       "      <th>50%</th>\n",
       "      <th>75%</th>\n",
       "      <th>max</th>\n",
       "    </tr>\n",
       "  </thead>\n",
       "  <tbody>\n",
       "    <tr>\n",
       "      <th>YEAR</th>\n",
       "      <td>307645.0</td>\n",
       "      <td>2018.438525</td>\n",
       "      <td>1.083061</td>\n",
       "      <td>2017.00</td>\n",
       "      <td>2017.0</td>\n",
       "      <td>2019.00</td>\n",
       "      <td>2019.0000</td>\n",
       "      <td>2020.00</td>\n",
       "    </tr>\n",
       "    <tr>\n",
       "      <th>MONTH</th>\n",
       "      <td>307645.0</td>\n",
       "      <td>6.423862</td>\n",
       "      <td>3.461812</td>\n",
       "      <td>1.00</td>\n",
       "      <td>3.0</td>\n",
       "      <td>7.00</td>\n",
       "      <td>9.0000</td>\n",
       "      <td>12.00</td>\n",
       "    </tr>\n",
       "    <tr>\n",
       "      <th>RETAIL SALES</th>\n",
       "      <td>307642.0</td>\n",
       "      <td>7.024071</td>\n",
       "      <td>30.986238</td>\n",
       "      <td>-6.49</td>\n",
       "      <td>0.0</td>\n",
       "      <td>0.32</td>\n",
       "      <td>3.2675</td>\n",
       "      <td>2739.00</td>\n",
       "    </tr>\n",
       "    <tr>\n",
       "      <th>RETAIL TRANSFERS</th>\n",
       "      <td>307645.0</td>\n",
       "      <td>6.936465</td>\n",
       "      <td>30.237195</td>\n",
       "      <td>-38.49</td>\n",
       "      <td>0.0</td>\n",
       "      <td>0.00</td>\n",
       "      <td>3.0000</td>\n",
       "      <td>1990.83</td>\n",
       "    </tr>\n",
       "    <tr>\n",
       "      <th>WAREHOUSE SALES</th>\n",
       "      <td>307645.0</td>\n",
       "      <td>25.294597</td>\n",
       "      <td>249.916798</td>\n",
       "      <td>-7800.00</td>\n",
       "      <td>0.0</td>\n",
       "      <td>1.00</td>\n",
       "      <td>5.0000</td>\n",
       "      <td>18317.00</td>\n",
       "    </tr>\n",
       "  </tbody>\n",
       "</table>\n",
       "</div>"
      ],
      "text/plain": [
       "                     count         mean         std      min     25%      50%  \\\n",
       "YEAR              307645.0  2018.438525    1.083061  2017.00  2017.0  2019.00   \n",
       "MONTH             307645.0     6.423862    3.461812     1.00     3.0     7.00   \n",
       "RETAIL SALES      307642.0     7.024071   30.986238    -6.49     0.0     0.32   \n",
       "RETAIL TRANSFERS  307645.0     6.936465   30.237195   -38.49     0.0     0.00   \n",
       "WAREHOUSE SALES   307645.0    25.294597  249.916798 -7800.00     0.0     1.00   \n",
       "\n",
       "                        75%       max  \n",
       "YEAR              2019.0000   2020.00  \n",
       "MONTH                9.0000     12.00  \n",
       "RETAIL SALES         3.2675   2739.00  \n",
       "RETAIL TRANSFERS     3.0000   1990.83  \n",
       "WAREHOUSE SALES      5.0000  18317.00  "
      ]
     },
     "execution_count": 49,
     "metadata": {},
     "output_type": "execute_result"
    }
   ],
   "source": [
    "# Let's see the description of our numerical columns\n",
    "df.describe().T"
   ]
  },
  {
   "cell_type": "markdown",
   "id": "781fb3db",
   "metadata": {},
   "source": [
    "# Checking for Duplicates in the Dataset"
   ]
  },
  {
   "cell_type": "code",
   "execution_count": 59,
   "id": "7260f2eb",
   "metadata": {},
   "outputs": [
    {
     "name": "stdout",
     "output_type": "stream",
     "text": [
      "Empty DataFrame\n",
      "Columns: [YEAR, MONTH, SUPPLIER, ITEM CODE, ITEM DESCRIPTION, ITEM TYPE, RETAIL SALES, RETAIL TRANSFERS, WAREHOUSE SALES, DATE]\n",
      "Index: []\n"
     ]
    }
   ],
   "source": [
    "# Finding duplicate rows (keeping all instances)\n",
    "duplicate_rows = df[df.duplicated(keep=False)]\n",
    "print(duplicate_rows)"
   ]
  },
  {
   "cell_type": "markdown",
   "id": "a091e6d6",
   "metadata": {},
   "source": [
    "# Checking for some missing values"
   ]
  },
  {
   "cell_type": "code",
   "execution_count": null,
   "id": "3ddfe390",
   "metadata": {},
   "outputs": [
    {
     "name": "stdout",
     "output_type": "stream",
     "text": [
      "\n",
      "Missing values per column:\n",
      "YEAR                  0\n",
      "MONTH                 0\n",
      "SUPPLIER            167\n",
      "ITEM CODE             0\n",
      "ITEM DESCRIPTION      0\n",
      "ITEM TYPE             1\n",
      "RETAIL SALES          3\n",
      "RETAIL TRANSFERS      0\n",
      "WAREHOUSE SALES       0\n",
      "dtype: int64\n"
     ]
    }
   ],
   "source": [
    "# Let's check if there is any missing values\n",
    "print('\\nMissing values per column:')\n",
    "print(df.isnull().sum())"
   ]
  },
  {
   "cell_type": "code",
   "execution_count": 27,
   "id": "dd1b56d3",
   "metadata": {},
   "outputs": [
    {
     "data": {
      "image/png": "[encoded data removed]",
      "text/plain": [
       "<Figure size 800x400 with 1 Axes>"
      ]
     },
     "metadata": {},
     "output_type": "display_data"
    }
   ],
   "source": [
    "# Let's visualize the missing values\n",
    "missing = df.isnull().sum()\n",
    "missing = missing[missing > 0]\n",
    "plt.figure(figsize=(8,4))\n",
    "missing.plot(kind='bar')\n",
    "plt.title('Missing Values per Column')\n",
    "plt.ylabel('Count of Missing Values')\n",
    "plt.xlabel('Column')\n",
    "plt.tight_layout()\n",
    "plt.show()"
   ]
  },
  {
   "cell_type": "markdown",
   "id": "47489dd8",
   "metadata": {},
   "source": [
    "## Inferences:\n",
    "\n",
    "**Here is our dataset Description:**\n",
    "| Variables   | Description   |\n",
    "| ----------- |-------------- |\n",
    "| Year        | Calendar Year |\n",
    "| Month       | Month |\n",
    "| Supplier       | Supplier Name |\n",
    "| Item Code        | Uniquely assigned code to distinguish each item |\n",
    "| Item Description      | Description of each item|\n",
    "| Item Type        | The type of the item (Wine, Beer, Liquor, and Tote) |\n",
    "| Retail Sales       | Cases of product sold from DLC dispensaries |\n",
    "| Retail Transfers      | Cases of products transferred to DLC dispensaries |\n",
    "| Warehouse Sales        |  |\n",
    "\n",
    "**Shape:** Our dataset has 307645-rows and 9-columns\n",
    "\n",
    "**Information:** The dataset has 4-object type columns (Strings), 2-int type columns and 3-float type columns\n",
    "\n",
    "**Description:** The dataset has some negative values in the retail and warehouse columns as shown in the description.\n",
    "\n",
    "**Duplicates:** The dataset has no duplicate entries.\n",
    "\n",
    "We also have some missing values in our dataset; looking at the chat above the supplier column has the highest amount of missing values which we will handle in the next steps. We will also look into some time series trends to see some top selling products and top suppliers as well."
   ]
  },
  {
   "cell_type": "markdown",
   "id": "62acd64d",
   "metadata": {},
   "source": [
    "# Let's print some top suppliers and items"
   ]
  },
  {
   "cell_type": "code",
   "execution_count": 53,
   "id": "b7ecb090",
   "metadata": {},
   "outputs": [
    {
     "name": "stdout",
     "output_type": "stream",
     "text": [
      "\n",
      "---------Top Suppliers..............\n",
      "SUPPLIER\n",
      "REPUBLIC NATIONAL DISTRIBUTING CO       20995\n",
      "LEGENDS LTD                             13634\n",
      "SOUTHERN GLAZERS WINE AND SPIRITS       11720\n",
      "E & J GALLO WINERY                      10816\n",
      "THE COUNTRY VINTNER, LLC DBA WINEBOW    10669\n",
      "MONSIEUR TOUTON SELECTION               10360\n",
      "A VINTNERS SELECTIONS                    9994\n",
      "BACCHUS IMPORTERS LTD                    9150\n",
      "DIAGEO NORTH AMERICA INC                 7520\n",
      "RELIABLE CHURCHILL LLLP                  6971\n",
      "Name: count, dtype: int64\n",
      "\n",
      "------Top Item Types-------\n",
      "ITEM TYPE\n",
      "WINE            187640\n",
      "LIQUOR           64910\n",
      "BEER             42413\n",
      "KEGS             10146\n",
      "NON-ALCOHOL       1908\n",
      "STR_SUPPLIES       405\n",
      "REF                127\n",
      "DUNNAGE             95\n",
      "NaN                  1\n",
      "Name: count, dtype: int64\n"
     ]
    }
   ],
   "source": [
    "# Let's print some top categories in our dataset\n",
    "print('\\n---------Top Suppliers..............')\n",
    "print(df['SUPPLIER'].value_counts(dropna=False).head(10))\n",
    "\n",
    "\n",
    "print('\\n------Top Item Types-------')\n",
    "print(df['ITEM TYPE'].value_counts(dropna=False))"
   ]
  },
  {
   "cell_type": "markdown",
   "id": "34a499c9",
   "metadata": {},
   "source": [
    "# Inferences:\n",
    "\n",
    "Republic National Distributing Co is the top supplier with 20995 supplies made, Wine is the top selling item in our dataset 187640 already sold."
   ]
  },
  {
   "cell_type": "markdown",
   "id": "42114316",
   "metadata": {},
   "source": [
    "# Checking for some negative values"
   ]
  },
  {
   "cell_type": "code",
   "execution_count": 56,
   "id": "aef5c526",
   "metadata": {},
   "outputs": [
    {
     "name": "stdout",
     "output_type": "stream",
     "text": [
      "\n",
      "Describe numeric columns:\n",
      "                YEAR          MONTH   RETAIL SALES  RETAIL TRANSFERS  \\\n",
      "count  307645.000000  307645.000000  307642.000000     307645.000000   \n",
      "mean     2018.438525       6.423862       7.024071          6.936465   \n",
      "std         1.083061       3.461812      30.986238         30.237195   \n",
      "min      2017.000000       1.000000      -6.490000        -38.490000   \n",
      "25%      2017.000000       3.000000       0.000000          0.000000   \n",
      "50%      2019.000000       7.000000       0.320000          0.000000   \n",
      "75%      2019.000000       9.000000       3.267500          3.000000   \n",
      "max      2020.000000      12.000000    2739.000000       1990.830000   \n",
      "\n",
      "       WAREHOUSE SALES  \n",
      "count    307645.000000  \n",
      "mean         25.294597  \n",
      "std         249.916798  \n",
      "min       -7800.000000  \n",
      "25%           0.000000  \n",
      "50%           1.000000  \n",
      "75%           5.000000  \n",
      "max       18317.000000  \n",
      "\n",
      "Negative WAREHOUSE SALES: 716\n",
      "Negative RETAIL SALES: 113\n",
      "Negative RETAIL TRANSFERS: 1016\n"
     ]
    }
   ],
   "source": [
    "print('\\nDescribe numeric columns:')\n",
    "print(df.describe())\n",
    "\n",
    "# Negative values summary\n",
    "print('\\nNegative WAREHOUSE SALES:', (df['WAREHOUSE SALES'] < 0).sum())\n",
    "print('Negative RETAIL SALES:', (df['RETAIL SALES'] < 0).sum())\n",
    "print('Negative RETAIL TRANSFERS:', (df['RETAIL TRANSFERS'] < 0).sum())"
   ]
  },
  {
   "cell_type": "markdown",
   "id": "9ae9be70",
   "metadata": {},
   "source": [
    "# Inferences:\n",
    "\n",
    "We have total of 716 negative values in the Warehouse Sales column, 113 in Retail Sales column , and 1016 in Retail Transfers column. This could possibly indicate returns, corrections, or data errors."
   ]
  },
  {
   "cell_type": "markdown",
   "id": "63788f3d",
   "metadata": {},
   "source": [
    "# Time Series Trends"
   ]
  },
  {
   "cell_type": "code",
   "execution_count": 57,
   "id": "5c7d2894",
   "metadata": {},
   "outputs": [
    {
     "data": {
      "image/png": "[encoded data removed]",
      "text/plain": [
       "<Figure size 1200x600 with 1 Axes>"
      ]
     },
     "metadata": {},
     "output_type": "display_data"
    }
   ],
   "source": [
    "# Add a date column for time series analysis\n",
    "df['DATE'] = pd.to_datetime(df['YEAR'].astype(str) + '-' + df['MONTH'].astype(str) + '-01')\n",
    "\n",
    "# Monthly total sales (retail & warehouse)\n",
    "monthly_sales = df.groupby('DATE')[['RETAIL SALES', 'WAREHOUSE SALES']].sum()\n",
    "\n",
    "plt.figure(figsize=(12, 6))\n",
    "plt.plot(monthly_sales.index, monthly_sales['RETAIL SALES'], label='Retail Sales')\n",
    "plt.plot(monthly_sales.index, monthly_sales['WAREHOUSE SALES'], label='Warehouse Sales')\n",
    "plt.title('Monthly Sales Trends (Retail vs Warehouse)')\n",
    "plt.xlabel('Date')\n",
    "plt.ylabel('Total Sales')\n",
    "plt.legend()\n",
    "plt.tight_layout()\n",
    "plt.show()\n"
   ]
  },
  {
   "cell_type": "markdown",
   "id": "dbec5fd7",
   "metadata": {},
   "source": [
    "# Inferences:\n",
    "\n",
    "* The line plot (above) shows total retail and warehouse sales for each month in our dataset.\n",
    "\n",
    "* Warehouse sales are much higher than retail sales overall.\n",
    "\n",
    "* There are visible seasonal/periodic fluctuations some months have spikes or dips in both channels."
   ]
  },
  {
   "cell_type": "markdown",
   "id": "fd2c850a",
   "metadata": {},
   "source": [
    "# Yearly Sales by Item Type"
   ]
  },
  {
   "cell_type": "code",
   "execution_count": null,
   "id": "24181a2c",
   "metadata": {},
   "outputs": [
    {
     "data": {
      "text/html": [
       "<div>\n",
       "<style scoped>\n",
       "    .dataframe tbody tr th:only-of-type {\n",
       "        vertical-align: middle;\n",
       "    }\n",
       "\n",
       "    .dataframe tbody tr th {\n",
       "        vertical-align: top;\n",
       "    }\n",
       "\n",
       "    .dataframe thead tr th {\n",
       "        text-align: left;\n",
       "    }\n",
       "\n",
       "    .dataframe thead tr:last-of-type th {\n",
       "        text-align: right;\n",
       "    }\n",
       "</style>\n",
       "<table border=\"1\" class=\"dataframe\">\n",
       "  <thead>\n",
       "    <tr>\n",
       "      <th></th>\n",
       "      <th colspan=\"8\" halign=\"left\">RETAIL SALES</th>\n",
       "      <th colspan=\"8\" halign=\"left\">WAREHOUSE SALES</th>\n",
       "    </tr>\n",
       "    <tr>\n",
       "      <th>ITEM TYPE</th>\n",
       "      <th>BEER</th>\n",
       "      <th>DUNNAGE</th>\n",
       "      <th>KEGS</th>\n",
       "      <th>LIQUOR</th>\n",
       "      <th>NON-ALCOHOL</th>\n",
       "      <th>REF</th>\n",
       "      <th>STR_SUPPLIES</th>\n",
       "      <th>WINE</th>\n",
       "      <th>BEER</th>\n",
       "      <th>DUNNAGE</th>\n",
       "      <th>KEGS</th>\n",
       "      <th>LIQUOR</th>\n",
       "      <th>NON-ALCOHOL</th>\n",
       "      <th>REF</th>\n",
       "      <th>STR_SUPPLIES</th>\n",
       "      <th>WINE</th>\n",
       "    </tr>\n",
       "    <tr>\n",
       "      <th>YEAR</th>\n",
       "      <th></th>\n",
       "      <th></th>\n",
       "      <th></th>\n",
       "      <th></th>\n",
       "      <th></th>\n",
       "      <th></th>\n",
       "      <th></th>\n",
       "      <th></th>\n",
       "      <th></th>\n",
       "      <th></th>\n",
       "      <th></th>\n",
       "      <th></th>\n",
       "      <th></th>\n",
       "      <th></th>\n",
       "      <th></th>\n",
       "      <th></th>\n",
       "    </tr>\n",
       "  </thead>\n",
       "  <tbody>\n",
       "    <tr>\n",
       "      <th>2017</th>\n",
       "      <td>176650.34</td>\n",
       "      <td>0.0</td>\n",
       "      <td>0.0</td>\n",
       "      <td>250652.84</td>\n",
       "      <td>7796.66</td>\n",
       "      <td>283.58</td>\n",
       "      <td>969.14</td>\n",
       "      <td>250382.01</td>\n",
       "      <td>1970278.96</td>\n",
       "      <td>-40771.0</td>\n",
       "      <td>39001.0</td>\n",
       "      <td>25736.63</td>\n",
       "      <td>7739.84</td>\n",
       "      <td>-6604.0</td>\n",
       "      <td>0.0</td>\n",
       "      <td>338466.70</td>\n",
       "    </tr>\n",
       "    <tr>\n",
       "      <th>2018</th>\n",
       "      <td>35246.64</td>\n",
       "      <td>0.0</td>\n",
       "      <td>0.0</td>\n",
       "      <td>57432.18</td>\n",
       "      <td>1545.09</td>\n",
       "      <td>65.18</td>\n",
       "      <td>104.70</td>\n",
       "      <td>59202.11</td>\n",
       "      <td>425699.57</td>\n",
       "      <td>-10365.0</td>\n",
       "      <td>9786.0</td>\n",
       "      <td>6643.78</td>\n",
       "      <td>1992.21</td>\n",
       "      <td>-208.0</td>\n",
       "      <td>0.0</td>\n",
       "      <td>85977.63</td>\n",
       "    </tr>\n",
       "    <tr>\n",
       "      <th>2019</th>\n",
       "      <td>262479.70</td>\n",
       "      <td>0.0</td>\n",
       "      <td>0.0</td>\n",
       "      <td>357077.43</td>\n",
       "      <td>13984.73</td>\n",
       "      <td>260.05</td>\n",
       "      <td>1276.51</td>\n",
       "      <td>325112.78</td>\n",
       "      <td>2961086.69</td>\n",
       "      <td>-57465.0</td>\n",
       "      <td>57077.0</td>\n",
       "      <td>49480.62</td>\n",
       "      <td>12132.91</td>\n",
       "      <td>-12256.0</td>\n",
       "      <td>0.0</td>\n",
       "      <td>533315.01</td>\n",
       "    </tr>\n",
       "    <tr>\n",
       "      <th>2020</th>\n",
       "      <td>99843.85</td>\n",
       "      <td>0.0</td>\n",
       "      <td>0.0</td>\n",
       "      <td>137528.98</td>\n",
       "      <td>10757.83</td>\n",
       "      <td>54.82</td>\n",
       "      <td>390.53</td>\n",
       "      <td>111801.69</td>\n",
       "      <td>1170171.29</td>\n",
       "      <td>-12853.0</td>\n",
       "      <td>12567.0</td>\n",
       "      <td>13045.24</td>\n",
       "      <td>4284.63</td>\n",
       "      <td>-1431.0</td>\n",
       "      <td>0.0</td>\n",
       "      <td>199225.57</td>\n",
       "    </tr>\n",
       "  </tbody>\n",
       "</table>\n",
       "</div>"
      ],
      "text/plain": [
       "          RETAIL SALES                                              \\\n",
       "ITEM TYPE         BEER DUNNAGE KEGS     LIQUOR NON-ALCOHOL     REF   \n",
       "YEAR                                                                 \n",
       "2017         176650.34     0.0  0.0  250652.84     7796.66  283.58   \n",
       "2018          35246.64     0.0  0.0   57432.18     1545.09   65.18   \n",
       "2019         262479.70     0.0  0.0  357077.43    13984.73  260.05   \n",
       "2020          99843.85     0.0  0.0  137528.98    10757.83   54.82   \n",
       "\n",
       "                                  WAREHOUSE SALES                              \\\n",
       "ITEM TYPE STR_SUPPLIES       WINE            BEER  DUNNAGE     KEGS    LIQUOR   \n",
       "YEAR                                                                            \n",
       "2017            969.14  250382.01      1970278.96 -40771.0  39001.0  25736.63   \n",
       "2018            104.70   59202.11       425699.57 -10365.0   9786.0   6643.78   \n",
       "2019           1276.51  325112.78      2961086.69 -57465.0  57077.0  49480.62   \n",
       "2020            390.53  111801.69      1170171.29 -12853.0  12567.0  13045.24   \n",
       "\n",
       "                                                        \n",
       "ITEM TYPE NON-ALCOHOL      REF STR_SUPPLIES       WINE  \n",
       "YEAR                                                    \n",
       "2017          7739.84  -6604.0          0.0  338466.70  \n",
       "2018          1992.21   -208.0          0.0   85977.63  \n",
       "2019         12132.91 -12256.0          0.0  533315.01  \n",
       "2020          4284.63  -1431.0          0.0  199225.57  "
      ]
     },
     "execution_count": 58,
     "metadata": {},
     "output_type": "execute_result"
    }
   ],
   "source": [
    "# Yearly sales by item type\n",
    "year_type_sales = df.groupby(['YEAR', 'ITEM TYPE'])[['RETAIL SALES', 'WAREHOUSE SALES']].sum().unstack(fill_value=0)\n",
    "year_type_sales.tail()"
   ]
  },
  {
   "cell_type": "markdown",
   "id": "fd0488a0",
   "metadata": {},
   "source": [
    "# Inference:\n",
    "\n",
    "* Retail Sales: WINE and LIQUOR dominate, with BEER also significant.\n",
    "\n",
    "* Warehouse Sales: WINE and BEER stand out, but we also have negative or near-zero values for DUNNAGE and REF (possibly data corrections or special accounting).\n",
    "\n",
    "* For each year, you can see which item types are leading sales for both retail and warehouse."
   ]
  },
  {
   "cell_type": "markdown",
   "id": "d0acc583",
   "metadata": {},
   "source": [
    "# Top Sellers by Item Item and Suppliers"
   ]
  },
  {
   "cell_type": "code",
   "execution_count": 33,
   "id": "56ee2ad0",
   "metadata": {},
   "outputs": [
    {
     "name": "stdout",
     "output_type": "stream",
     "text": [
      "----------Top 10 Items Sold by Retailers-------------\n",
      "ITEM CODE  ITEM DESCRIPTION                         \n",
      "53929      TITO'S HANDMADE VODKA - 1.75L                27580.50\n",
      "23445      CORONA EXTRA LOOSE NR - 12OZ                 25064.00\n",
      "23886      HEINEKEN LOOSE NR - 12OZ                     17761.00\n",
      "90590      MILLER LITE 30PK CAN - 12OZ                  14440.00\n",
      "90468      BUD LIGHT 30PK CAN                           12299.00\n",
      "35840      BOWMAN'S VODKA - 1.75L                       12126.72\n",
      "23905      MILLER LITE  HIGH GRAPHIC LOOSE NR - 12OZ    10373.77\n",
      "26187      STELLA ARTOIS LOOSE NR - 11.2OZ              10354.00\n",
      "96750      CORONA EXTRA 2/12 NR - 12OZ                   9755.19\n",
      "40932      PINNACLE VODKA - 1.75L                        8676.40\n",
      "Name: RETAIL SALES, dtype: float64\n",
      "\n",
      "----------Top 10 Items Sold From the Warehouse-------------\n",
      "ITEM CODE  ITEM DESCRIPTION                  \n",
      "23445      CORONA EXTRA LOOSE NR - 12OZ          303160.83\n",
      "96750      CORONA EXTRA 2/12 NR - 12OZ           247924.43\n",
      "23886      HEINEKEN LOOSE NR - 12OZ              171950.21\n",
      "96970      HEINEKEN 2/12 NR - 12OZ               154654.49\n",
      "90590      MILLER LITE 30PK CAN - 12OZ           134486.40\n",
      "96741      CORONA EXTRA 4/6 NR - 12OZ            125111.38\n",
      "25883      MODELO ESPECIAL 24 LOOSE NR - 12OZ    116987.30\n",
      "23314      CORONA EXTRA 18PK NR - 12OZ           100302.27\n",
      "96083      HEINEKEN 4/6 NR - 12OZ                 99406.15\n",
      "90468      BUD LIGHT 30PK CAN                     96316.97\n",
      "Name: WAREHOUSE SALES, dtype: float64\n"
     ]
    }
   ],
   "source": [
    "# Top 10 items by total RETAIL SALES and WAREHOUSE SALES\n",
    "top_items_retail = df.groupby(['ITEM CODE', 'ITEM DESCRIPTION'])['RETAIL SALES'].sum().sort_values(ascending=False).head(10)\n",
    "top_items_warehouse = df.groupby(['ITEM CODE', 'ITEM DESCRIPTION'])['WAREHOUSE SALES'].sum().sort_values(ascending=False).head(10)\n",
    "\n",
    "print('----------Top 10 Items Sold by Retailers-------------')\n",
    "print(top_items_retail)\n",
    "print('\\n----------Top 10 Items Sold From the Warehouse-------------')\n",
    "print(top_items_warehouse)"
   ]
  },
  {
   "cell_type": "code",
   "execution_count": 34,
   "id": "11b10aa9",
   "metadata": {},
   "outputs": [
    {
     "name": "stdout",
     "output_type": "stream",
     "text": [
      "----------Top 10 Retail Suppliers-------------\n",
      "SUPPLIER\n",
      "E & J GALLO WINERY          166170.53\n",
      "DIAGEO NORTH AMERICA INC    145343.20\n",
      "CONSTELLATION BRANDS        131664.79\n",
      "ANHEUSER BUSCH INC          109960.82\n",
      "JIM BEAM BRANDS CO           96164.04\n",
      "MILLER BREWING COMPANY       87156.44\n",
      "CROWN IMPORTS                84437.66\n",
      "SAZERAC CO                   70414.62\n",
      "BACARDI USA INC              66610.23\n",
      "THE WINE GROUP               64270.04\n",
      "Name: RETAIL SALES, dtype: float64\n",
      "\n",
      "----------Top 10 Warehouse Suppliers-------------\n",
      "SUPPLIER\n",
      "CROWN IMPORTS               1651871.51\n",
      "MILLER BREWING COMPANY      1425428.71\n",
      "ANHEUSER BUSCH INC          1331170.84\n",
      "HEINEKEN USA                 829796.46\n",
      "E & J GALLO WINERY           197463.78\n",
      "BOSTON BEER CORPORATION      191592.89\n",
      "DIAGEO NORTH AMERICA INC     170564.63\n",
      "YUENGLING BREWERY            134147.86\n",
      "FLYING DOG BREWERY LLLP      128292.49\n",
      "CONSTELLATION BRANDS         119399.51\n",
      "Name: WAREHOUSE SALES, dtype: float64\n"
     ]
    }
   ],
   "source": [
    "# Top 10 suppliers by total RETAIL SALES and WAREHOUSE SALES\n",
    "top_suppliers_retail = df.groupby('SUPPLIER')['RETAIL SALES'].sum().sort_values(ascending=False).head(10)\n",
    "top_suppliers_warehouse = df.groupby('SUPPLIER')['WAREHOUSE SALES'].sum().sort_values(ascending=False).head(10)\n",
    "\n",
    "print('----------Top 10 Retail Suppliers-------------')\n",
    "print(top_suppliers_retail)\n",
    "print('\\n----------Top 10 Warehouse Suppliers-------------')\n",
    "print(top_suppliers_warehouse)"
   ]
  },
  {
   "cell_type": "markdown",
   "id": "18e4612c",
   "metadata": {},
   "source": [
    "# Inferences:\n",
    "\n",
    "**Top 10 Items by Retail Sales**\n",
    "\n",
    "* TITO'S HANDMADE VODKA - 1.75L is the top retail item (~27.6k units).\n",
    "\n",
    "* Several top-selling beers (CORONA EXTRA, HEINEKEN, MILLER LITE, BUD LIGHT) are in both top retail and warehouse lists.\n",
    "\n",
    "* VODKA and BEER dominate retail.\n",
    "\n",
    "**Top 10 Items by Warehouse Sales**\n",
    "\n",
    "* CORONA EXTRA LOOSE NR - 12OZ leads warehouse sales (~303k units).\n",
    "\n",
    "* Many beer brands in warehouse sales, much higher volumes than retail.\n",
    "\n",
    "* Items in both retail and warehouse top lists: CORONA, HEINEKEN, MILLER LITE, BUD LIGHT.\n",
    "\n",
    "**Top 10 Suppliers by Retail Sales**\n",
    "\n",
    "* E & J GALLO WINERY leads with ~166k.\n",
    "\n",
    "* Others: DIAGEO, CONSTELLATION, ANHEUSER BUSCH, JIM BEAM, MILLER, CROWN IMPORTS, SAZERAC, BACARDI.\n",
    "\n",
    "**Top 10 Suppliers by Warehouse Sales**\n",
    "\n",
    "* CROWN IMPORTS is far ahead (~1.65 million units).\n",
    "\n",
    "* MILLER, ANHEUSER BUSCH, and HEINEKEN are also huge in warehouse."
   ]
  },
  {
   "cell_type": "markdown",
   "id": "37aab3a9",
   "metadata": {},
   "source": [
    "# Bar Charts of Top Items and Suppliers by Retail Sales"
   ]
  },
  {
   "cell_type": "code",
   "execution_count": 35,
   "id": "55a9deb7",
   "metadata": {},
   "outputs": [
    {
     "data": {
      "image/png": "[encoded data removed]",
      "text/plain": [
       "<Figure size 1000x600 with 1 Axes>"
      ]
     },
     "metadata": {},
     "output_type": "display_data"
    }
   ],
   "source": [
    "# Bar chart for top items (retail sales)\n",
    "plt.figure(figsize=(10, 6))\n",
    "top_items_retail.plot(kind='barh')\n",
    "plt.title('Top 10 Items by Retail Sales')\n",
    "plt.xlabel('Retail Sales')\n",
    "plt.gca().invert_yaxis()\n",
    "plt.tight_layout()\n",
    "plt.show()"
   ]
  },
  {
   "cell_type": "code",
   "execution_count": 36,
   "id": "b6e1790c",
   "metadata": {},
   "outputs": [
    {
     "data": {
      "image/png": "[encoded data removed]",
      "text/plain": [
       "<Figure size 1000x600 with 1 Axes>"
      ]
     },
     "metadata": {},
     "output_type": "display_data"
    }
   ],
   "source": [
    "# Bar chart for top suppliers (retail sales)\n",
    "plt.figure(figsize=(10, 6))\n",
    "top_suppliers_retail.plot(kind='barh', color='orange')\n",
    "plt.title('Top 10 Suppliers by Retail Sales')\n",
    "plt.xlabel('Retail Sales')\n",
    "plt.gca().invert_yaxis()\n",
    "plt.tight_layout()\n",
    "plt.show()"
   ]
  },
  {
   "cell_type": "markdown",
   "id": "a8a65abb",
   "metadata": {},
   "source": [
    "# Correlation Analysis\n",
    "\n",
    "Let's now look at the correlation between RETAIL SALES, WAREHOUSE SALES, and RETAIL TRANSFERS"
   ]
  },
  {
   "cell_type": "code",
   "execution_count": 73,
   "id": "f6e77eb8",
   "metadata": {},
   "outputs": [
    {
     "data": {
      "image/png": "[encoded data removed]",
      "text/plain": [
       "<Figure size 1000x600 with 2 Axes>"
      ]
     },
     "metadata": {},
     "output_type": "display_data"
    },
    {
     "data": {
      "text/html": [
       "<div>\n",
       "<style scoped>\n",
       "    .dataframe tbody tr th:only-of-type {\n",
       "        vertical-align: middle;\n",
       "    }\n",
       "\n",
       "    .dataframe tbody tr th {\n",
       "        vertical-align: top;\n",
       "    }\n",
       "\n",
       "    .dataframe thead th {\n",
       "        text-align: right;\n",
       "    }\n",
       "</style>\n",
       "<table border=\"1\" class=\"dataframe\">\n",
       "  <thead>\n",
       "    <tr style=\"text-align: right;\">\n",
       "      <th></th>\n",
       "      <th>RETAIL SALES</th>\n",
       "      <th>RETAIL TRANSFERS</th>\n",
       "      <th>WAREHOUSE SALES</th>\n",
       "    </tr>\n",
       "  </thead>\n",
       "  <tbody>\n",
       "    <tr>\n",
       "      <th>RETAIL SALES</th>\n",
       "      <td>1.000000</td>\n",
       "      <td>0.960054</td>\n",
       "      <td>0.490472</td>\n",
       "    </tr>\n",
       "    <tr>\n",
       "      <th>RETAIL TRANSFERS</th>\n",
       "      <td>0.960054</td>\n",
       "      <td>1.000000</td>\n",
       "      <td>0.492093</td>\n",
       "    </tr>\n",
       "    <tr>\n",
       "      <th>WAREHOUSE SALES</th>\n",
       "      <td>0.490472</td>\n",
       "      <td>0.492093</td>\n",
       "      <td>1.000000</td>\n",
       "    </tr>\n",
       "  </tbody>\n",
       "</table>\n",
       "</div>"
      ],
      "text/plain": [
       "                  RETAIL SALES  RETAIL TRANSFERS  WAREHOUSE SALES\n",
       "RETAIL SALES          1.000000          0.960054         0.490472\n",
       "RETAIL TRANSFERS      0.960054          1.000000         0.492093\n",
       "WAREHOUSE SALES       0.490472          0.492093         1.000000"
      ]
     },
     "execution_count": 73,
     "metadata": {},
     "output_type": "execute_result"
    }
   ],
   "source": [
    "corr = df[['RETAIL SALES', 'RETAIL TRANSFERS', 'WAREHOUSE SALES']].corr()\n",
    "plt.figure(figsize=(10, 6))\n",
    "sns.heatmap(corr, annot=True, fmt='.2f', cmap='Blues')\n",
    "plt.title('Correlation Matrix: Sales & Transfers')\n",
    "plt.tight_layout()\n",
    "plt.show()\n",
    "corr"
   ]
  },
  {
   "cell_type": "markdown",
   "id": "350c4e1f",
   "metadata": {},
   "source": [
    "# Inferences:\n",
    "\n",
    "* RETAIL SALES & RETAIL TRANSFERS: Strong positive correlation (0.96)\n",
    "    -> When retail sales go up, transfers do too—possibly indicating that transfers help replenish or move inventory in response to retail demand.\n",
    "\n",
    "* RETAIL SALES & WAREHOUSE SALES: Moderate correlation (0.49)\n",
    "    -> Suggests some link (maybe re-stocking or supplier deliveries), but not as tightly coupled as transfers.\n",
    "\n",
    "* RETAIL TRANSFERS & WAREHOUSE SALES: Similar moderate correlation (0.49)"
   ]
  },
  {
   "cell_type": "markdown",
   "id": "87aee25d",
   "metadata": {},
   "source": [
    "# Data Cleaning\n",
    "- Drop all rows with any missing values\n",
    "- Remove rows with negative sales or transfers"
   ]
  },
  {
   "cell_type": "code",
   "execution_count": null,
   "id": "15219f5a",
   "metadata": {},
   "outputs": [
    {
     "name": "stdout",
     "output_type": "stream",
     "text": [
      "Cleaned data shape: (305708, 9)\n"
     ]
    },
    {
     "data": {
      "text/html": [
       "<div>\n",
       "<style scoped>\n",
       "    .dataframe tbody tr th:only-of-type {\n",
       "        vertical-align: middle;\n",
       "    }\n",
       "\n",
       "    .dataframe tbody tr th {\n",
       "        vertical-align: top;\n",
       "    }\n",
       "\n",
       "    .dataframe thead th {\n",
       "        text-align: right;\n",
       "    }\n",
       "</style>\n",
       "<table border=\"1\" class=\"dataframe\">\n",
       "  <thead>\n",
       "    <tr style=\"text-align: right;\">\n",
       "      <th></th>\n",
       "      <th>YEAR</th>\n",
       "      <th>MONTH</th>\n",
       "      <th>SUPPLIER</th>\n",
       "      <th>ITEM CODE</th>\n",
       "      <th>ITEM DESCRIPTION</th>\n",
       "      <th>ITEM TYPE</th>\n",
       "      <th>RETAIL SALES</th>\n",
       "      <th>RETAIL TRANSFERS</th>\n",
       "      <th>WAREHOUSE SALES</th>\n",
       "    </tr>\n",
       "  </thead>\n",
       "  <tbody>\n",
       "    <tr>\n",
       "      <th>0</th>\n",
       "      <td>2020</td>\n",
       "      <td>1</td>\n",
       "      <td>REPUBLIC NATIONAL DISTRIBUTING CO</td>\n",
       "      <td>100009</td>\n",
       "      <td>BOOTLEG RED - 750ML</td>\n",
       "      <td>WINE</td>\n",
       "      <td>0.00</td>\n",
       "      <td>0.0</td>\n",
       "      <td>2.0</td>\n",
       "    </tr>\n",
       "    <tr>\n",
       "      <th>1</th>\n",
       "      <td>2020</td>\n",
       "      <td>1</td>\n",
       "      <td>PWSWN INC</td>\n",
       "      <td>100024</td>\n",
       "      <td>MOMENT DE PLAISIR - 750ML</td>\n",
       "      <td>WINE</td>\n",
       "      <td>0.00</td>\n",
       "      <td>1.0</td>\n",
       "      <td>4.0</td>\n",
       "    </tr>\n",
       "    <tr>\n",
       "      <th>2</th>\n",
       "      <td>2020</td>\n",
       "      <td>1</td>\n",
       "      <td>RELIABLE CHURCHILL LLLP</td>\n",
       "      <td>1001</td>\n",
       "      <td>S SMITH ORGANIC PEAR CIDER - 18.7OZ</td>\n",
       "      <td>BEER</td>\n",
       "      <td>0.00</td>\n",
       "      <td>0.0</td>\n",
       "      <td>1.0</td>\n",
       "    </tr>\n",
       "    <tr>\n",
       "      <th>3</th>\n",
       "      <td>2020</td>\n",
       "      <td>1</td>\n",
       "      <td>LANTERNA DISTRIBUTORS INC</td>\n",
       "      <td>100145</td>\n",
       "      <td>SCHLINK HAUS KABINETT - 750ML</td>\n",
       "      <td>WINE</td>\n",
       "      <td>0.00</td>\n",
       "      <td>0.0</td>\n",
       "      <td>1.0</td>\n",
       "    </tr>\n",
       "    <tr>\n",
       "      <th>4</th>\n",
       "      <td>2020</td>\n",
       "      <td>1</td>\n",
       "      <td>DIONYSOS IMPORTS INC</td>\n",
       "      <td>100293</td>\n",
       "      <td>SANTORINI GAVALA WHITE - 750ML</td>\n",
       "      <td>WINE</td>\n",
       "      <td>0.82</td>\n",
       "      <td>0.0</td>\n",
       "      <td>0.0</td>\n",
       "    </tr>\n",
       "  </tbody>\n",
       "</table>\n",
       "</div>"
      ],
      "text/plain": [
       "   YEAR  MONTH                           SUPPLIER ITEM CODE  \\\n",
       "0  2020      1  REPUBLIC NATIONAL DISTRIBUTING CO    100009   \n",
       "1  2020      1                          PWSWN INC    100024   \n",
       "2  2020      1            RELIABLE CHURCHILL LLLP      1001   \n",
       "3  2020      1          LANTERNA DISTRIBUTORS INC    100145   \n",
       "4  2020      1               DIONYSOS IMPORTS INC    100293   \n",
       "\n",
       "                      ITEM DESCRIPTION ITEM TYPE  RETAIL SALES  \\\n",
       "0                  BOOTLEG RED - 750ML      WINE          0.00   \n",
       "1            MOMENT DE PLAISIR - 750ML      WINE          0.00   \n",
       "2  S SMITH ORGANIC PEAR CIDER - 18.7OZ      BEER          0.00   \n",
       "3        SCHLINK HAUS KABINETT - 750ML      WINE          0.00   \n",
       "4       SANTORINI GAVALA WHITE - 750ML      WINE          0.82   \n",
       "\n",
       "   RETAIL TRANSFERS  WAREHOUSE SALES  \n",
       "0               0.0              2.0  \n",
       "1               1.0              4.0  \n",
       "2               0.0              1.0  \n",
       "3               0.0              1.0  \n",
       "4               0.0              0.0  "
      ]
     },
     "execution_count": 9,
     "metadata": {},
     "output_type": "execute_result"
    }
   ],
   "source": [
    "# Drop rows with any missing values and assign to a new dataframe\n",
    "df_clean = df.dropna()\n",
    "\n",
    "# Remove rows with negative sales or transfers\n",
    "df_clean = df_clean[\n",
    "    (df_clean['WAREHOUSE SALES'] >= 0) &\n",
    "    (df_clean['RETAIL SALES'] >= 0) &\n",
    "    (df_clean['RETAIL TRANSFERS'] >= 0)\n",
    "]\n",
    "\n",
    "# Print the cleaned dataframe\n",
    "print('Cleaned data shape:', df_clean.shape)\n",
    "df_clean.head()"
   ]
  },
  {
   "cell_type": "code",
   "execution_count": null,
   "id": "a2f4945e",
   "metadata": {},
   "outputs": [
    {
     "data": {
      "text/plain": [
       "YEAR                0\n",
       "MONTH               0\n",
       "SUPPLIER            0\n",
       "ITEM CODE           0\n",
       "ITEM DESCRIPTION    0\n",
       "ITEM TYPE           0\n",
       "RETAIL SALES        0\n",
       "RETAIL TRANSFERS    0\n",
       "WAREHOUSE SALES     0\n",
       "dtype: int64"
      ]
     },
     "execution_count": 20,
     "metadata": {},
     "output_type": "execute_result"
    }
   ],
   "source": [
    "# Check to see if the missing data has been properly handled\n",
    "df_clean.isnull().sum()"
   ]
  },
  {
   "cell_type": "code",
   "execution_count": null,
   "id": "46ec8edc",
   "metadata": {},
   "outputs": [
    {
     "data": {
      "text/html": [
       "<div>\n",
       "<style scoped>\n",
       "    .dataframe tbody tr th:only-of-type {\n",
       "        vertical-align: middle;\n",
       "    }\n",
       "\n",
       "    .dataframe tbody tr th {\n",
       "        vertical-align: top;\n",
       "    }\n",
       "\n",
       "    .dataframe thead th {\n",
       "        text-align: right;\n",
       "    }\n",
       "</style>\n",
       "<table border=\"1\" class=\"dataframe\">\n",
       "  <thead>\n",
       "    <tr style=\"text-align: right;\">\n",
       "      <th></th>\n",
       "      <th>YEAR</th>\n",
       "      <th>MONTH</th>\n",
       "      <th>RETAIL SALES</th>\n",
       "      <th>RETAIL TRANSFERS</th>\n",
       "      <th>WAREHOUSE SALES</th>\n",
       "    </tr>\n",
       "  </thead>\n",
       "  <tbody>\n",
       "    <tr>\n",
       "      <th>count</th>\n",
       "      <td>305708.000000</td>\n",
       "      <td>305708.000000</td>\n",
       "      <td>305708.000000</td>\n",
       "      <td>305708.000000</td>\n",
       "      <td>305708.000000</td>\n",
       "    </tr>\n",
       "    <tr>\n",
       "      <th>mean</th>\n",
       "      <td>2018.441510</td>\n",
       "      <td>6.423692</td>\n",
       "      <td>7.035518</td>\n",
       "      <td>6.978865</td>\n",
       "      <td>25.908338</td>\n",
       "    </tr>\n",
       "    <tr>\n",
       "      <th>std</th>\n",
       "      <td>1.082593</td>\n",
       "      <td>3.460265</td>\n",
       "      <td>30.469857</td>\n",
       "      <td>30.325194</td>\n",
       "      <td>247.548336</td>\n",
       "    </tr>\n",
       "    <tr>\n",
       "      <th>min</th>\n",
       "      <td>2017.000000</td>\n",
       "      <td>1.000000</td>\n",
       "      <td>0.000000</td>\n",
       "      <td>0.000000</td>\n",
       "      <td>0.000000</td>\n",
       "    </tr>\n",
       "    <tr>\n",
       "      <th>25%</th>\n",
       "      <td>2017.000000</td>\n",
       "      <td>3.000000</td>\n",
       "      <td>0.000000</td>\n",
       "      <td>0.000000</td>\n",
       "      <td>0.000000</td>\n",
       "    </tr>\n",
       "    <tr>\n",
       "      <th>50%</th>\n",
       "      <td>2019.000000</td>\n",
       "      <td>7.000000</td>\n",
       "      <td>0.320000</td>\n",
       "      <td>0.000000</td>\n",
       "      <td>1.000000</td>\n",
       "    </tr>\n",
       "    <tr>\n",
       "      <th>75%</th>\n",
       "      <td>2019.000000</td>\n",
       "      <td>9.000000</td>\n",
       "      <td>3.300000</td>\n",
       "      <td>3.000000</td>\n",
       "      <td>5.000000</td>\n",
       "    </tr>\n",
       "    <tr>\n",
       "      <th>max</th>\n",
       "      <td>2020.000000</td>\n",
       "      <td>12.000000</td>\n",
       "      <td>1816.490000</td>\n",
       "      <td>1990.830000</td>\n",
       "      <td>18317.000000</td>\n",
       "    </tr>\n",
       "  </tbody>\n",
       "</table>\n",
       "</div>"
      ],
      "text/plain": [
       "                YEAR          MONTH   RETAIL SALES  RETAIL TRANSFERS  \\\n",
       "count  305708.000000  305708.000000  305708.000000     305708.000000   \n",
       "mean     2018.441510       6.423692       7.035518          6.978865   \n",
       "std         1.082593       3.460265      30.469857         30.325194   \n",
       "min      2017.000000       1.000000       0.000000          0.000000   \n",
       "25%      2017.000000       3.000000       0.000000          0.000000   \n",
       "50%      2019.000000       7.000000       0.320000          0.000000   \n",
       "75%      2019.000000       9.000000       3.300000          3.000000   \n",
       "max      2020.000000      12.000000    1816.490000       1990.830000   \n",
       "\n",
       "       WAREHOUSE SALES  \n",
       "count    305708.000000  \n",
       "mean         25.908338  \n",
       "std         247.548336  \n",
       "min           0.000000  \n",
       "25%           0.000000  \n",
       "50%           1.000000  \n",
       "75%           5.000000  \n",
       "max       18317.000000  "
      ]
     },
     "execution_count": 21,
     "metadata": {},
     "output_type": "execute_result"
    }
   ],
   "source": [
    "# Print the description to check if the negative values were properly handled\n",
    "df_clean.describe()"
   ]
  },
  {
   "cell_type": "markdown",
   "id": "4a858422",
   "metadata": {},
   "source": [
    "# Inference:\n",
    "\n",
    "We have properly handled all missing and negative values by dropping the missing values as they represent quite small amount of our dataset and to provide a more cleaner dataset with less noise."
   ]
  },
  {
   "cell_type": "markdown",
   "id": "abf81686",
   "metadata": {},
   "source": [
    "# Feature Engineering"
   ]
  },
  {
   "cell_type": "code",
   "execution_count": 10,
   "id": "fcae26dd",
   "metadata": {},
   "outputs": [
    {
     "data": {
      "text/html": [
       "<div>\n",
       "<style scoped>\n",
       "    .dataframe tbody tr th:only-of-type {\n",
       "        vertical-align: middle;\n",
       "    }\n",
       "\n",
       "    .dataframe tbody tr th {\n",
       "        vertical-align: top;\n",
       "    }\n",
       "\n",
       "    .dataframe thead th {\n",
       "        text-align: right;\n",
       "    }\n",
       "</style>\n",
       "<table border=\"1\" class=\"dataframe\">\n",
       "  <thead>\n",
       "    <tr style=\"text-align: right;\">\n",
       "      <th></th>\n",
       "      <th>YEAR</th>\n",
       "      <th>MONTH</th>\n",
       "      <th>WAREHOUSE SALES</th>\n",
       "      <th>SUPPLIER_8 VINI INC</th>\n",
       "      <th>SUPPLIER_A HARDY USA LTD</th>\n",
       "      <th>SUPPLIER_A I G WINE &amp; SPIRITS</th>\n",
       "      <th>SUPPLIER_A VINTNERS SELECTIONS</th>\n",
       "      <th>SUPPLIER_A&amp;E INC</th>\n",
       "      <th>SUPPLIER_A&amp;W BORDERS LLC</th>\n",
       "      <th>SUPPLIER_ADAMBA IMPORTS INTL</th>\n",
       "      <th>...</th>\n",
       "      <th>SUPPLIER_YUENGLING BREWERY</th>\n",
       "      <th>SUPPLIER_Z WINE GALLERY IMPORTS LLC</th>\n",
       "      <th>SUPPLIER_ZURENA LLC</th>\n",
       "      <th>ITEM TYPE_BEER</th>\n",
       "      <th>ITEM TYPE_KEGS</th>\n",
       "      <th>ITEM TYPE_LIQUOR</th>\n",
       "      <th>ITEM TYPE_NON-ALCOHOL</th>\n",
       "      <th>ITEM TYPE_REF</th>\n",
       "      <th>ITEM TYPE_STR_SUPPLIES</th>\n",
       "      <th>ITEM TYPE_WINE</th>\n",
       "    </tr>\n",
       "  </thead>\n",
       "  <tbody>\n",
       "    <tr>\n",
       "      <th>0</th>\n",
       "      <td>2017</td>\n",
       "      <td>6</td>\n",
       "      <td>0.0</td>\n",
       "      <td>True</td>\n",
       "      <td>False</td>\n",
       "      <td>False</td>\n",
       "      <td>False</td>\n",
       "      <td>False</td>\n",
       "      <td>False</td>\n",
       "      <td>False</td>\n",
       "      <td>...</td>\n",
       "      <td>False</td>\n",
       "      <td>False</td>\n",
       "      <td>False</td>\n",
       "      <td>False</td>\n",
       "      <td>False</td>\n",
       "      <td>False</td>\n",
       "      <td>False</td>\n",
       "      <td>False</td>\n",
       "      <td>False</td>\n",
       "      <td>True</td>\n",
       "    </tr>\n",
       "    <tr>\n",
       "      <th>1</th>\n",
       "      <td>2017</td>\n",
       "      <td>6</td>\n",
       "      <td>0.0</td>\n",
       "      <td>False</td>\n",
       "      <td>True</td>\n",
       "      <td>False</td>\n",
       "      <td>False</td>\n",
       "      <td>False</td>\n",
       "      <td>False</td>\n",
       "      <td>False</td>\n",
       "      <td>...</td>\n",
       "      <td>False</td>\n",
       "      <td>False</td>\n",
       "      <td>False</td>\n",
       "      <td>False</td>\n",
       "      <td>False</td>\n",
       "      <td>True</td>\n",
       "      <td>False</td>\n",
       "      <td>False</td>\n",
       "      <td>False</td>\n",
       "      <td>False</td>\n",
       "    </tr>\n",
       "    <tr>\n",
       "      <th>2</th>\n",
       "      <td>2017</td>\n",
       "      <td>6</td>\n",
       "      <td>0.0</td>\n",
       "      <td>False</td>\n",
       "      <td>False</td>\n",
       "      <td>True</td>\n",
       "      <td>False</td>\n",
       "      <td>False</td>\n",
       "      <td>False</td>\n",
       "      <td>False</td>\n",
       "      <td>...</td>\n",
       "      <td>False</td>\n",
       "      <td>False</td>\n",
       "      <td>False</td>\n",
       "      <td>False</td>\n",
       "      <td>False</td>\n",
       "      <td>True</td>\n",
       "      <td>False</td>\n",
       "      <td>False</td>\n",
       "      <td>False</td>\n",
       "      <td>False</td>\n",
       "    </tr>\n",
       "    <tr>\n",
       "      <th>3</th>\n",
       "      <td>2017</td>\n",
       "      <td>6</td>\n",
       "      <td>17.0</td>\n",
       "      <td>False</td>\n",
       "      <td>False</td>\n",
       "      <td>True</td>\n",
       "      <td>False</td>\n",
       "      <td>False</td>\n",
       "      <td>False</td>\n",
       "      <td>False</td>\n",
       "      <td>...</td>\n",
       "      <td>False</td>\n",
       "      <td>False</td>\n",
       "      <td>False</td>\n",
       "      <td>False</td>\n",
       "      <td>False</td>\n",
       "      <td>False</td>\n",
       "      <td>False</td>\n",
       "      <td>False</td>\n",
       "      <td>False</td>\n",
       "      <td>True</td>\n",
       "    </tr>\n",
       "    <tr>\n",
       "      <th>4</th>\n",
       "      <td>2017</td>\n",
       "      <td>6</td>\n",
       "      <td>76.0</td>\n",
       "      <td>False</td>\n",
       "      <td>False</td>\n",
       "      <td>False</td>\n",
       "      <td>True</td>\n",
       "      <td>False</td>\n",
       "      <td>False</td>\n",
       "      <td>False</td>\n",
       "      <td>...</td>\n",
       "      <td>False</td>\n",
       "      <td>False</td>\n",
       "      <td>False</td>\n",
       "      <td>False</td>\n",
       "      <td>False</td>\n",
       "      <td>True</td>\n",
       "      <td>False</td>\n",
       "      <td>False</td>\n",
       "      <td>False</td>\n",
       "      <td>False</td>\n",
       "    </tr>\n",
       "  </tbody>\n",
       "</table>\n",
       "<p>5 rows × 405 columns</p>\n",
       "</div>"
      ],
      "text/plain": [
       "   YEAR  MONTH  WAREHOUSE SALES  SUPPLIER_8 VINI INC  \\\n",
       "0  2017      6              0.0                 True   \n",
       "1  2017      6              0.0                False   \n",
       "2  2017      6              0.0                False   \n",
       "3  2017      6             17.0                False   \n",
       "4  2017      6             76.0                False   \n",
       "\n",
       "   SUPPLIER_A HARDY USA LTD  SUPPLIER_A I G WINE & SPIRITS  \\\n",
       "0                     False                          False   \n",
       "1                      True                          False   \n",
       "2                     False                           True   \n",
       "3                     False                           True   \n",
       "4                     False                          False   \n",
       "\n",
       "   SUPPLIER_A VINTNERS SELECTIONS  SUPPLIER_A&E INC  SUPPLIER_A&W BORDERS LLC  \\\n",
       "0                           False             False                     False   \n",
       "1                           False             False                     False   \n",
       "2                           False             False                     False   \n",
       "3                           False             False                     False   \n",
       "4                            True             False                     False   \n",
       "\n",
       "   SUPPLIER_ADAMBA IMPORTS INTL  ...  SUPPLIER_YUENGLING BREWERY  \\\n",
       "0                         False  ...                       False   \n",
       "1                         False  ...                       False   \n",
       "2                         False  ...                       False   \n",
       "3                         False  ...                       False   \n",
       "4                         False  ...                       False   \n",
       "\n",
       "   SUPPLIER_Z WINE GALLERY IMPORTS LLC  SUPPLIER_ZURENA LLC  ITEM TYPE_BEER  \\\n",
       "0                                False                False           False   \n",
       "1                                False                False           False   \n",
       "2                                False                False           False   \n",
       "3                                False                False           False   \n",
       "4                                False                False           False   \n",
       "\n",
       "   ITEM TYPE_KEGS  ITEM TYPE_LIQUOR  ITEM TYPE_NON-ALCOHOL  ITEM TYPE_REF  \\\n",
       "0           False             False                  False          False   \n",
       "1           False              True                  False          False   \n",
       "2           False              True                  False          False   \n",
       "3           False             False                  False          False   \n",
       "4           False              True                  False          False   \n",
       "\n",
       "   ITEM TYPE_STR_SUPPLIES  ITEM TYPE_WINE  \n",
       "0                   False            True  \n",
       "1                   False           False  \n",
       "2                   False           False  \n",
       "3                   False            True  \n",
       "4                   False           False  \n",
       "\n",
       "[5 rows x 405 columns]"
      ]
     },
     "execution_count": 10,
     "metadata": {},
     "output_type": "execute_result"
    }
   ],
   "source": [
    "# Aggregate monthly by supplier and item type\n",
    "features = ['YEAR', 'MONTH', 'SUPPLIER', 'ITEM TYPE']\n",
    "target = 'WAREHOUSE SALES'\n",
    "agg = df_clean.groupby(features)[target].sum().reset_index()\n",
    "\n",
    "# One-hot encoding\n",
    "agg_enc = pd.get_dummies(agg, columns=['SUPPLIER', 'ITEM TYPE'])\n",
    "agg_enc.head()"
   ]
  },
  {
   "cell_type": "markdown",
   "id": "466472b4",
   "metadata": {},
   "source": [
    "# Inferences:\n",
    "\n",
    "Here we have use one-hot encoder to convert the categorical variables \"SUPPLIER\" and \"ITEM TYPE\" into numerical variables, so our model can learn the details in them. Now our dataset has 405 columns that we will train our model on."
   ]
  },
  {
   "cell_type": "markdown",
   "id": "8866d46b",
   "metadata": {},
   "source": [
    "# Train/Test Split"
   ]
  },
  {
   "cell_type": "code",
   "execution_count": 11,
   "id": "4b58712f",
   "metadata": {},
   "outputs": [
    {
     "name": "stdout",
     "output_type": "stream",
     "text": [
      "Train shape: (7968, 404) Test shape: (1993, 404)\n"
     ]
    }
   ],
   "source": [
    "from sklearn.model_selection import train_test_split\n",
    "\n",
    "X = agg_enc.drop(target, axis=1)\n",
    "y = agg_enc[target]\n",
    "X_train, X_test, y_train, y_test = train_test_split(X, y, test_size=0.2, shuffle=True, random_state=42)\n",
    "\n",
    "print('Train shape:', X_train.shape, 'Test shape:', X_test.shape)"
   ]
  },
  {
   "cell_type": "markdown",
   "id": "f24cb6ff",
   "metadata": {},
   "source": [
    "We are using 80% of our cleaned and encoded dataset to train our model and 20% for testing the model, we have chosen \"WAREHOUSE SALES\" as our target variable; while 'YEAR', 'MONTH', 'SUPPLIER', 'ITEM TYPE' are the feature variables for training."
   ]
  },
  {
   "cell_type": "markdown",
   "id": "04e85d26",
   "metadata": {},
   "source": [
    "# Linear Regression Model Training and Prediction"
   ]
  },
  {
   "cell_type": "code",
   "execution_count": null,
   "id": "adc64b00",
   "metadata": {},
   "outputs": [
    {
     "name": "stdout",
     "output_type": "stream",
     "text": [
      "Linear Regression Results:\n",
      "RMSE: 4440.0139530901\n",
      "MAE: 1451.853749723731\n",
      "R2: 0.49301195160440614\n"
     ]
    }
   ],
   "source": [
    "# Import libraries for our Linear Regression model\n",
    "from sklearn.linear_model import LinearRegression\n",
    "from sklearn.metrics import root_mean_squared_error, mean_absolute_error, r2_score\n",
    "\n",
    "# We fit our Model and predict\n",
    "lr = LinearRegression()\n",
    "lr.fit(X_train, y_train)\n",
    "y_pred_lr = lr.predict(X_test)\n",
    "\n",
    "# Print output of our test\n",
    "print(\"Linear Regression Results:\")\n",
    "print(\"RMSE:\", root_mean_squared_error(y_test, y_pred_lr))\n",
    "print(\"MAE:\", mean_absolute_error(y_test, y_pred_lr))\n",
    "print(\"R2:\", r2_score(y_test, y_pred_lr))"
   ]
  },
  {
   "cell_type": "markdown",
   "id": "1ccc5b2e",
   "metadata": {},
   "source": [
    "# Inferences:\n",
    "\n",
    "The RMSE and MAE scores are both relatively high compared to actual range of our warehouse sales data. and the R² of 0.49 could mean the Linear regression model is capturing some relationships, but it's still missing a lot of the complexity; this could be likely due to its assumption of linearlity and inability to capture complex feature interactions or nonlinear effects.\n",
    "\n",
    "In the next step we train a Random Forest model with our data to see how that performs."
   ]
  },
  {
   "cell_type": "markdown",
   "id": "907bca44",
   "metadata": {},
   "source": [
    "# Random Forest Model"
   ]
  },
  {
   "cell_type": "code",
   "execution_count": null,
   "id": "ab503eda",
   "metadata": {},
   "outputs": [
    {
     "name": "stdout",
     "output_type": "stream",
     "text": [
      "Random Forest Regression Results:\n",
      "RMSE: 808.5286551761282\n",
      "MAE: 107.5588286001004\n",
      "R2: 0.9831879805226905\n"
     ]
    }
   ],
   "source": [
    "# Import libraries for our Random Forest model\n",
    "from sklearn.ensemble import RandomForestRegressor\n",
    "\n",
    "# We fit our Model and predict\n",
    "rf = RandomForestRegressor(n_estimators=100, random_state=42)\n",
    "rf.fit(X_train, y_train)\n",
    "y_pred_rf = rf.predict(X_test)\n",
    "\n",
    "# Print output of our test\n",
    "print(\"Random Forest Regression Results:\")\n",
    "print(\"RMSE:\", root_mean_squared_error(y_test, y_pred_rf))\n",
    "print(\"MAE:\", mean_absolute_error(y_test, y_pred_rf))\n",
    "print(\"R2:\", r2_score(y_test, y_pred_rf))"
   ]
  },
  {
   "cell_type": "markdown",
   "id": "cdcca18e",
   "metadata": {},
   "source": [
    "# Inferences:\n",
    "\n",
    "With R² of 0.98 and much lower RMSE and MAE we can say the Random forest model 98% of the variance in warehouse sales which could mean an excellent fit if our model is clean of overfitting; we check that in the next steps. \n",
    "\n",
    "Thr Random Forest model performed better than the Linear Regression Model; we could say Random Forest is best suited for our model at predicting warehouse sales. Below we will compare the model training results and the test results and also some visual inspection."
   ]
  },
  {
   "cell_type": "markdown",
   "id": "91362acc",
   "metadata": {},
   "source": [
    "# Random Forest Train results vs Test results"
   ]
  },
  {
   "cell_type": "code",
   "execution_count": 69,
   "id": "86b96ac5",
   "metadata": {},
   "outputs": [
    {
     "name": "stdout",
     "output_type": "stream",
     "text": [
      "Train RMSE: 245.75831664033072\n",
      "Test RMSE: 808.5286551761282\n",
      "\n",
      "Train R2: 0.9979362942262759\n",
      "Test R2: 0.9831879805226905\n"
     ]
    }
   ],
   "source": [
    "# Fit the model as usual\n",
    "rf.fit(X_train, y_train)\n",
    "\n",
    "# Predict on train and test\n",
    "y_train_pred = rf.predict(X_train)\n",
    "y_test_pred = rf.predict(X_test)\n",
    "\n",
    "print(\"Train RMSE:\", root_mean_squared_error(y_train, y_train_pred))\n",
    "print(\"Test RMSE:\", root_mean_squared_error(y_test, y_test_pred))\n",
    "print(\"\\nTrain R2:\", r2_score(y_train, y_train_pred))\n",
    "print(\"Test R2:\", r2_score(y_test, y_test_pred))\n"
   ]
  },
  {
   "cell_type": "markdown",
   "id": "a0ab5606",
   "metadata": {},
   "source": [
    "# Inferences:\n",
    "\n",
    "* From the output above the R² values are both very high (close to 1), which is great. Our model explains almost all the variance in both training and test data.\n",
    "* RMSE on the test set (809) is higher than on the training set (246), but this is normal; performance almost always drops a bit on new, unseen data."
   ]
  },
  {
   "cell_type": "markdown",
   "id": "41de6536",
   "metadata": {},
   "source": [
    "# Feature Importance"
   ]
  },
  {
   "cell_type": "code",
   "execution_count": 75,
   "id": "32198ebe",
   "metadata": {},
   "outputs": [
    {
     "name": "stdout",
     "output_type": "stream",
     "text": [
      "\n",
      "Top 10 Feature Importances (Random Forest):\n",
      "ITEM TYPE_BEER                      0.473986\n",
      "SUPPLIER_CROWN IMPORTS              0.182236\n",
      "ITEM TYPE_KEGS                      0.104011\n",
      "SUPPLIER_MILLER BREWING COMPANY     0.098618\n",
      "SUPPLIER_ANHEUSER BUSCH INC         0.057978\n",
      "SUPPLIER_HEINEKEN USA               0.033694\n",
      "MONTH                               0.020162\n",
      "YEAR                                0.005639\n",
      "ITEM TYPE_WINE                      0.004079\n",
      "SUPPLIER_BOSTON BEER CORPORATION    0.003083\n",
      "dtype: float64\n"
     ]
    }
   ],
   "source": [
    "#Feature Importance for Random Forest ---\n",
    "importances = pd.Series(rf.feature_importances_, index=X.columns).sort_values(ascending=False)\n",
    "print(\"\\nTop 10 Feature Importances (Random Forest):\")\n",
    "print(importances.head(10))"
   ]
  },
  {
   "cell_type": "markdown",
   "id": "29a25e75",
   "metadata": {},
   "source": [
    "# Inferences:\n",
    "\n",
    "Item type Beer showed some strong importance and Crown Import is the top supplier from the result above."
   ]
  },
  {
   "cell_type": "markdown",
   "id": "796110bb",
   "metadata": {},
   "source": [
    "# Visual Inspection of our Model"
   ]
  },
  {
   "cell_type": "code",
   "execution_count": 74,
   "id": "665fcba1",
   "metadata": {},
   "outputs": [
    {
     "data": {
      "image/png": "[encoded data removed]",
      "text/plain": [
       "<Figure size 700x700 with 1 Axes>"
      ]
     },
     "metadata": {},
     "output_type": "display_data"
    }
   ],
   "source": [
    "# Actual vs Predicted Plot\n",
    "plt.figure(figsize=(7,7))\n",
    "plt.scatter(y_test, y_test_pred, alpha=0.5)\n",
    "plt.plot([y_test.min(), y_test.max()], [y_test.min(), y_test.max()], 'r--', lw=2)  # 45-degree line\n",
    "plt.xlabel('Actual Warehouse Sales')\n",
    "plt.ylabel('Predicted Warehouse Sales')\n",
    "plt.title('Random Forest: Actual vs Predicted (Test Set)')\n",
    "plt.grid(True)\n",
    "plt.tight_layout()\n",
    "plt.show()"
   ]
  },
  {
   "cell_type": "markdown",
   "id": "ff547d4b",
   "metadata": {},
   "source": [
    "# Inferences:\n",
    "\n",
    "* Most of the blue points are very close to the red dashed line (the ideal y=x line)\n",
    "* This means that our model's prediction is very close to the actual warehouse sales on the test set.\n",
    "* There are a few larger values (outliers on the right), but even those follow the general trend and are not wildly off.\n",
    "* This means that the distribution looks healthy, with no systematic bias."
   ]
  },
  {
   "cell_type": "markdown",
   "id": "e9f47410",
   "metadata": {},
   "source": [
    "# Hyperparameter Tuning with GridSearchCV\n",
    "\n",
    "Even though our model performs well, let's tune the model to see if it will have any effect on the output"
   ]
  },
  {
   "cell_type": "code",
   "execution_count": 70,
   "id": "cfc55fcd",
   "metadata": {},
   "outputs": [
    {
     "name": "stdout",
     "output_type": "stream",
     "text": [
      "Best parameters found: {'max_depth': None, 'min_samples_split': 2, 'n_estimators': 200}\n",
      "Tuned Random Forest RMSE: 817.6011776380188\n",
      "Tuned Random Forest MAE: 108.36402631711003\n",
      "Tuned Random Forest R2: 0.9828085674231426\n"
     ]
    }
   ],
   "source": [
    "from sklearn.model_selection import GridSearchCV\n",
    "\n",
    "param_grid = {\n",
    "    'n_estimators': [50, 100, 200],\n",
    "    'max_depth': [5, 10, 20, None],\n",
    "    'min_samples_split': [2, 5, 10]\n",
    "}\n",
    "\n",
    "rf_gs = RandomForestRegressor(random_state=42)\n",
    "grid_search = GridSearchCV(rf_gs, param_grid, cv=3, scoring='neg_root_mean_squared_error', n_jobs=-1)\n",
    "grid_search.fit(X_train, y_train)\n",
    "\n",
    "print(\"Best parameters found:\", grid_search.best_params_)\n",
    "best_rf = grid_search.best_estimator_\n",
    "\n",
    "# Evaluate on test set\n",
    "y_pred_best = best_rf.predict(X_test)\n",
    "print(\"Tuned Random Forest RMSE:\", root_mean_squared_error(y_test, y_pred_best))\n",
    "print(\"Tuned Random Forest MAE:\", mean_absolute_error(y_test, y_pred_best))\n",
    "print(\"Tuned Random Forest R2:\", r2_score(y_test, y_pred_best))"
   ]
  },
  {
   "cell_type": "markdown",
   "id": "b9e32ba0",
   "metadata": {},
   "source": [
    "# Inference \n",
    "\n",
    "Our model after tuning had a slight reduction in the R² value which makes the model less complex and mored generalized. This helps prevent overfitting , making the model better at generalizing to new data even if its fit to training data is slightly less perfect."
   ]
  },
  {
   "cell_type": "markdown",
   "id": "5edfe829",
   "metadata": {},
   "source": [
    "# Predicting New Sales (Sample Input)"
   ]
  },
  {
   "cell_type": "code",
   "execution_count": 71,
   "id": "b55687df",
   "metadata": {},
   "outputs": [
    {
     "name": "stdout",
     "output_type": "stream",
     "text": [
      "Predicted warehouse sales for new input: 57981.27\n"
     ]
    }
   ],
   "source": [
    "# Build a template DataFrame with all feature columns\n",
    "new_row = pd.DataFrame(columns=X.columns)\n",
    "new_row.loc[0] = 0  # set all to zero\n",
    "\n",
    "# Example: predict for YEAR=2021, MONTH=1, supplier = 'CROWN IMPORTS', item type = 'BEER'\n",
    "new_row.at[0, 'YEAR'] = 2021\n",
    "new_row.at[0, 'MONTH'] = 1\n",
    "if 'SUPPLIER_CROWN IMPORTS' in X.columns:\n",
    "    new_row.at[0, 'SUPPLIER_CROWN IMPORTS'] = 1\n",
    "if 'ITEM TYPE_BEER' in X.columns:\n",
    "    new_row.at[0, 'ITEM TYPE_BEER'] = 1\n",
    "\n",
    "predicted_sale = best_rf.predict(new_row)[0]\n",
    "print(f\"Predicted warehouse sales for new input: {predicted_sale:.2f}\")"
   ]
  },
  {
   "cell_type": "markdown",
   "id": "eac89f88",
   "metadata": {},
   "source": [
    "The model prediction for warehouse sales is quite close to the recorded warehouse sale we can conclude the model has done an excellent job in it's prediction."
   ]
  },
  {
   "cell_type": "markdown",
   "id": "02a73bdb",
   "metadata": {},
   "source": [
    "# Save the Tuned Model"
   ]
  },
  {
   "cell_type": "code",
   "execution_count": 72,
   "id": "2f8e5a1c",
   "metadata": {},
   "outputs": [
    {
     "name": "stdout",
     "output_type": "stream",
     "text": [
      "Model saved as 'tuned_random_forest_model.joblib'.\n"
     ]
    }
   ],
   "source": [
    "import joblib\n",
    "joblib.dump(best_rf, 'tuned_random_forest_model.joblib')\n",
    "print(\"Model saved as 'tuned_random_forest_model.joblib'.\")"
   ]
  },
  {
   "cell_type": "markdown",
   "id": "5faf7ef2",
   "metadata": {},
   "source": [
    "# Conclusion\n",
    "\n",
    "Through a rigorous data science workflow, we developed an effective and robust pipeline for forecasting warehouse sales using historical sales data. The process included:\n",
    "\n",
    "1. **Exploratory Data Analysis (EDA):**\n",
    "\n",
    "    * Identified key trends, top-performing suppliers and products, and checked for missing values and outliers.\n",
    "\n",
    "    * Observed that warehouse sales dominate retail sales, with clear seasonal and supplier-driven patterns.\n",
    "\n",
    "2. **Data Cleaning:**\n",
    "\n",
    "    * Systematically removed rows with missing values and negative sales or transfers to ensure data quality and model reliability.\n",
    "\n",
    "3. **Feature Engineering:**\n",
    "\n",
    "    * Aggregated sales at the monthly, supplier, and item type level.\n",
    "\n",
    "    * Encoded categorical variables (supplier and item type) using one-hot encoding to allow machine learning models to utilize these important business drivers.\n",
    "\n",
    "4. **Model Development:**\n",
    "\n",
    "    * Built and compared Linear Regression and Random Forest models.\n",
    "\n",
    "    * The Random Forest model dramatically outperformed the linear model, capturing complex relationships in the data (Test R² ≈ 0.98).\n",
    "\n",
    "5. **Model Tuning and Validation:**\n",
    "\n",
    "    * Performed hyperparameter tuning using GridSearchCV to optimize the Random Forest’s performance and generalizability.\n",
    "\n",
    "    * Checked for overfitting by comparing train and test metrics and using visual inspection (actual vs predicted, residuals).\n",
    "\n",
    "6. **Prediction and Deployment:**\n",
    "\n",
    "    * Demonstrated the pipeline’s ability to predict sales for future periods or new scenarios.\n",
    "\n",
    "    * Saved the best-performing model for use in future forecasting tasks.\n",
    "\n",
    "\n",
    "\n",
    "# Recommendations\n",
    "\n",
    "* Continue using the tuned Random Forest model for forecasting warehouse sales, as it provides excellent predictive accuracy and generalization on new data.\n",
    "\n",
    "* Update and retrain the model regularly with new data to maintain high performance, especially as market dynamics or supplier mix change.\n",
    "\n",
    "* Integrate this pipeline into business reporting tools (e.g., dashboards), so sales forecasts can inform inventory planning, purchasing, and supplier negotiations.\n",
    "\n",
    "* Monitor for data quality issues going forward—always check for new missing values or outlier events that might need to be addressed before retraining.\n",
    "\n",
    "* Consider additional features in future versions, such as promotions, holidays, economic indicators, or store-level granularity, to further improve forecasting power.\n",
    "\n",
    "* Expand to retail sales or other channels using similar modeling techniques if business needs require it.\n"
   ]
  }
 ],
 "metadata": {
  "kernelspec": {
   "display_name": "Bootcamp",
   "language": "python",
   "name": "python3"
  },
  "language_info": {
   "codemirror_mode": {
    "name": "ipython",
    "version": 3
   },
   "file_extension": ".py",
   "mimetype": "text/x-python",
   "name": "python",
   "nbconvert_exporter": "python",
   "pygments_lexer": "ipython3",
   "version": "3.12.3"
  }
 },
 "nbformat": 4,
 "nbformat_minor": 5
}
